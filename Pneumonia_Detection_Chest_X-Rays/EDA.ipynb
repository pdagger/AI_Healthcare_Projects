{
 "cells": [
  {
   "cell_type": "code",
   "execution_count": 1,
   "metadata": {},
   "outputs": [],
   "source": [
    "import numpy as np # linear algebra\n",
    "import pandas as pd # data processing, CSV file I/O (e.g. pd.read_csv)\n",
    "import os\n",
    "from glob import glob\n",
    "%matplotlib inline\n",
    "import matplotlib.pyplot as plt\n",
    "import seaborn as sns\n",
    "from itertools import chain\n",
    "\n",
    "##Import any other packages you may need here"
   ]
  },
  {
   "cell_type": "markdown",
   "metadata": {},
   "source": [
    "EDA is open-ended, and it is up to you to decide how to look at different ways to slice and dice your data. A good starting point is to look at the requirements for the FDA documentation in the final part of this project to guide (some) of the analyses you do. \n",
    "\n",
    "This EDA should also help to inform you of how pneumonia looks in the wild. E.g. what other types of diseases it's commonly found with, how often it is found, what ages it affects, etc. \n",
    "\n",
    "Note that this NIH dataset was not specifically acquired for pneumonia. So, while this is a representation of 'pneumonia in the wild,' the prevalence of pneumonia may be different if you were to take only chest x-rays that were acquired in an ER setting with suspicion of pneumonia. "
   ]
  },
  {
   "cell_type": "markdown",
   "metadata": {},
   "source": [
    "Perform the following EDA:\n",
    "* The patient demographic data such as gender, age, patient position,etc. (as it is available)\n",
    "* The x-ray views taken (i.e. view position)\n",
    "* The number of cases including: \n",
    "    * number of pneumonia cases,\n",
    "    * number of non-pneumonia cases\n",
    "* The distribution of other diseases that are comorbid with pneumonia\n",
    "* Number of disease per patient \n",
    "* Pixel-level assessments of the imaging data for healthy & disease states of interest (e.g. histograms of intensity values) and compare distributions across diseases.\n",
    "\n",
    "Note: use full NIH data to perform the first a few EDA items and use `sample_labels.csv` for the pixel-level assassements. "
   ]
  },
  {
   "cell_type": "markdown",
   "metadata": {},
   "source": [
    "Also, **describe your findings and how will you set up the model training based on the findings.**"
   ]
  },
  {
   "cell_type": "code",
   "execution_count": 2,
   "metadata": {},
   "outputs": [
    {
     "data": {
      "text/html": [
       "<div>\n",
       "<style scoped>\n",
       "    .dataframe tbody tr th:only-of-type {\n",
       "        vertical-align: middle;\n",
       "    }\n",
       "\n",
       "    .dataframe tbody tr th {\n",
       "        vertical-align: top;\n",
       "    }\n",
       "\n",
       "    .dataframe thead th {\n",
       "        text-align: right;\n",
       "    }\n",
       "</style>\n",
       "<table border=\"1\" class=\"dataframe\">\n",
       "  <thead>\n",
       "    <tr style=\"text-align: right;\">\n",
       "      <th></th>\n",
       "      <th>Image Index</th>\n",
       "      <th>Finding Labels</th>\n",
       "      <th>Follow-up #</th>\n",
       "      <th>Patient ID</th>\n",
       "      <th>Patient Age</th>\n",
       "      <th>Patient Gender</th>\n",
       "      <th>View Position</th>\n",
       "      <th>OriginalImage[Width</th>\n",
       "      <th>Height]</th>\n",
       "      <th>OriginalImagePixelSpacing[x</th>\n",
       "      <th>y]</th>\n",
       "      <th>Unnamed: 11</th>\n",
       "    </tr>\n",
       "  </thead>\n",
       "  <tbody>\n",
       "    <tr>\n",
       "      <th>111403</th>\n",
       "      <td>00030456_000.png</td>\n",
       "      <td>No Finding</td>\n",
       "      <td>0</td>\n",
       "      <td>30456</td>\n",
       "      <td>46</td>\n",
       "      <td>F</td>\n",
       "      <td>PA</td>\n",
       "      <td>2021</td>\n",
       "      <td>2021</td>\n",
       "      <td>0.194311</td>\n",
       "      <td>0.194311</td>\n",
       "      <td>NaN</td>\n",
       "    </tr>\n",
       "    <tr>\n",
       "      <th>48322</th>\n",
       "      <td>00012249_000.png</td>\n",
       "      <td>No Finding</td>\n",
       "      <td>0</td>\n",
       "      <td>12249</td>\n",
       "      <td>27</td>\n",
       "      <td>F</td>\n",
       "      <td>PA</td>\n",
       "      <td>2974</td>\n",
       "      <td>2991</td>\n",
       "      <td>0.143000</td>\n",
       "      <td>0.143000</td>\n",
       "      <td>NaN</td>\n",
       "    </tr>\n",
       "    <tr>\n",
       "      <th>10324</th>\n",
       "      <td>00002673_020.png</td>\n",
       "      <td>Consolidation</td>\n",
       "      <td>20</td>\n",
       "      <td>2673</td>\n",
       "      <td>26</td>\n",
       "      <td>M</td>\n",
       "      <td>AP</td>\n",
       "      <td>2500</td>\n",
       "      <td>2048</td>\n",
       "      <td>0.168000</td>\n",
       "      <td>0.168000</td>\n",
       "      <td>NaN</td>\n",
       "    </tr>\n",
       "  </tbody>\n",
       "</table>\n",
       "</div>"
      ],
      "text/plain": [
       "             Image Index Finding Labels  Follow-up #  Patient ID  Patient Age  \\\n",
       "111403  00030456_000.png     No Finding            0       30456           46   \n",
       "48322   00012249_000.png     No Finding            0       12249           27   \n",
       "10324   00002673_020.png  Consolidation           20        2673           26   \n",
       "\n",
       "       Patient Gender View Position  OriginalImage[Width  Height]  \\\n",
       "111403              F            PA                 2021     2021   \n",
       "48322               F            PA                 2974     2991   \n",
       "10324               M            AP                 2500     2048   \n",
       "\n",
       "        OriginalImagePixelSpacing[x        y]  Unnamed: 11  \n",
       "111403                     0.194311  0.194311          NaN  \n",
       "48322                      0.143000  0.143000          NaN  \n",
       "10324                      0.168000  0.168000          NaN  "
      ]
     },
     "execution_count": 2,
     "metadata": {},
     "output_type": "execute_result"
    }
   ],
   "source": [
    "## Below is some helper code to read all of your full image filepaths into a dataframe for easier manipulation\n",
    "\n",
    "all_xray_df = pd.read_csv('./data/Data_Entry_2017.csv')\n",
    "all_xray_df.sample(3)"
   ]
  },
  {
   "cell_type": "code",
   "execution_count": 3,
   "metadata": {},
   "outputs": [
    {
     "data": {
      "text/html": [
       "<div>\n",
       "<style scoped>\n",
       "    .dataframe tbody tr th:only-of-type {\n",
       "        vertical-align: middle;\n",
       "    }\n",
       "\n",
       "    .dataframe tbody tr th {\n",
       "        vertical-align: top;\n",
       "    }\n",
       "\n",
       "    .dataframe thead th {\n",
       "        text-align: right;\n",
       "    }\n",
       "</style>\n",
       "<table border=\"1\" class=\"dataframe\">\n",
       "  <thead>\n",
       "    <tr style=\"text-align: right;\">\n",
       "      <th></th>\n",
       "      <th>Image Index</th>\n",
       "      <th>Finding Labels</th>\n",
       "      <th>Follow-up #</th>\n",
       "      <th>Patient ID</th>\n",
       "      <th>Patient Age</th>\n",
       "      <th>Patient Gender</th>\n",
       "      <th>View Position</th>\n",
       "      <th>OriginalImageWidth</th>\n",
       "      <th>OriginalImageHeight</th>\n",
       "      <th>OriginalImagePixelSpacing_x</th>\n",
       "      <th>OriginalImagePixelSpacing_y</th>\n",
       "    </tr>\n",
       "  </thead>\n",
       "  <tbody>\n",
       "    <tr>\n",
       "      <th>1965</th>\n",
       "      <td>00010294_009.png</td>\n",
       "      <td>Atelectasis|Effusion</td>\n",
       "      <td>9</td>\n",
       "      <td>10294</td>\n",
       "      <td>050Y</td>\n",
       "      <td>M</td>\n",
       "      <td>AP</td>\n",
       "      <td>2500</td>\n",
       "      <td>2048</td>\n",
       "      <td>0.168</td>\n",
       "      <td>0.168</td>\n",
       "    </tr>\n",
       "    <tr>\n",
       "      <th>3661</th>\n",
       "      <td>00018006_028.png</td>\n",
       "      <td>Effusion|Mass|Nodule</td>\n",
       "      <td>28</td>\n",
       "      <td>18006</td>\n",
       "      <td>061Y</td>\n",
       "      <td>M</td>\n",
       "      <td>AP</td>\n",
       "      <td>2500</td>\n",
       "      <td>2048</td>\n",
       "      <td>0.168</td>\n",
       "      <td>0.168</td>\n",
       "    </tr>\n",
       "    <tr>\n",
       "      <th>3489</th>\n",
       "      <td>00017158_017.png</td>\n",
       "      <td>No Finding</td>\n",
       "      <td>17</td>\n",
       "      <td>17158</td>\n",
       "      <td>059Y</td>\n",
       "      <td>M</td>\n",
       "      <td>AP</td>\n",
       "      <td>2500</td>\n",
       "      <td>2048</td>\n",
       "      <td>0.168</td>\n",
       "      <td>0.168</td>\n",
       "    </tr>\n",
       "  </tbody>\n",
       "</table>\n",
       "</div>"
      ],
      "text/plain": [
       "           Image Index        Finding Labels  Follow-up #  Patient ID  \\\n",
       "1965  00010294_009.png  Atelectasis|Effusion            9       10294   \n",
       "3661  00018006_028.png  Effusion|Mass|Nodule           28       18006   \n",
       "3489  00017158_017.png            No Finding           17       17158   \n",
       "\n",
       "     Patient Age Patient Gender View Position  OriginalImageWidth  \\\n",
       "1965        050Y              M            AP                2500   \n",
       "3661        061Y              M            AP                2500   \n",
       "3489        059Y              M            AP                2500   \n",
       "\n",
       "      OriginalImageHeight  OriginalImagePixelSpacing_x  \\\n",
       "1965                 2048                        0.168   \n",
       "3661                 2048                        0.168   \n",
       "3489                 2048                        0.168   \n",
       "\n",
       "      OriginalImagePixelSpacing_y  \n",
       "1965                        0.168  \n",
       "3661                        0.168  \n",
       "3489                        0.168  "
      ]
     },
     "execution_count": 3,
     "metadata": {},
     "output_type": "execute_result"
    }
   ],
   "source": [
    "sample_df = pd.read_csv('sample_labels.csv')\n",
    "sample_df.sample(3)"
   ]
  },
  {
   "cell_type": "code",
   "execution_count": 4,
   "metadata": {},
   "outputs": [
    {
     "name": "stdout",
     "output_type": "stream",
     "text": [
      "Labels:  ['Atelectasis' 'Cardiomegaly' 'Consolidation' 'Edema' 'Effusion'\n",
      " 'Emphysema' 'Fibrosis' 'Hernia' 'Infiltration' 'Mass' 'No Finding'\n",
      " 'Nodule' 'Pleural_Thickening' 'Pneumonia' 'Pneumothorax']\n"
     ]
    },
    {
     "data": {
      "text/html": [
       "<div>\n",
       "<style scoped>\n",
       "    .dataframe tbody tr th:only-of-type {\n",
       "        vertical-align: middle;\n",
       "    }\n",
       "\n",
       "    .dataframe tbody tr th {\n",
       "        vertical-align: top;\n",
       "    }\n",
       "\n",
       "    .dataframe thead th {\n",
       "        text-align: right;\n",
       "    }\n",
       "</style>\n",
       "<table border=\"1\" class=\"dataframe\">\n",
       "  <thead>\n",
       "    <tr style=\"text-align: right;\">\n",
       "      <th></th>\n",
       "      <th>Image Index</th>\n",
       "      <th>Finding Labels</th>\n",
       "      <th>Follow-up #</th>\n",
       "      <th>Patient ID</th>\n",
       "      <th>Patient Age</th>\n",
       "      <th>Patient Gender</th>\n",
       "      <th>View Position</th>\n",
       "      <th>OriginalImage[Width</th>\n",
       "      <th>Height]</th>\n",
       "      <th>OriginalImagePixelSpacing[x</th>\n",
       "      <th>...</th>\n",
       "      <th>Emphysema</th>\n",
       "      <th>Fibrosis</th>\n",
       "      <th>Hernia</th>\n",
       "      <th>Infiltration</th>\n",
       "      <th>Mass</th>\n",
       "      <th>No Finding</th>\n",
       "      <th>Nodule</th>\n",
       "      <th>Pleural_Thickening</th>\n",
       "      <th>Pneumonia</th>\n",
       "      <th>Pneumothorax</th>\n",
       "    </tr>\n",
       "  </thead>\n",
       "  <tbody>\n",
       "    <tr>\n",
       "      <th>7481</th>\n",
       "      <td>00001967_000.png</td>\n",
       "      <td>Fibrosis</td>\n",
       "      <td>0</td>\n",
       "      <td>1967</td>\n",
       "      <td>33</td>\n",
       "      <td>M</td>\n",
       "      <td>PA</td>\n",
       "      <td>2500</td>\n",
       "      <td>2048</td>\n",
       "      <td>0.168</td>\n",
       "      <td>...</td>\n",
       "      <td>0</td>\n",
       "      <td>1</td>\n",
       "      <td>0</td>\n",
       "      <td>0</td>\n",
       "      <td>0</td>\n",
       "      <td>0</td>\n",
       "      <td>0</td>\n",
       "      <td>0</td>\n",
       "      <td>0</td>\n",
       "      <td>0</td>\n",
       "    </tr>\n",
       "    <tr>\n",
       "      <th>83803</th>\n",
       "      <td>00020594_001.png</td>\n",
       "      <td>Fibrosis|Infiltration</td>\n",
       "      <td>1</td>\n",
       "      <td>20594</td>\n",
       "      <td>58</td>\n",
       "      <td>M</td>\n",
       "      <td>PA</td>\n",
       "      <td>3056</td>\n",
       "      <td>2512</td>\n",
       "      <td>0.139</td>\n",
       "      <td>...</td>\n",
       "      <td>0</td>\n",
       "      <td>1</td>\n",
       "      <td>0</td>\n",
       "      <td>1</td>\n",
       "      <td>0</td>\n",
       "      <td>0</td>\n",
       "      <td>0</td>\n",
       "      <td>0</td>\n",
       "      <td>0</td>\n",
       "      <td>0</td>\n",
       "    </tr>\n",
       "    <tr>\n",
       "      <th>93729</th>\n",
       "      <td>00023604_005.png</td>\n",
       "      <td>No Finding</td>\n",
       "      <td>5</td>\n",
       "      <td>23604</td>\n",
       "      <td>54</td>\n",
       "      <td>M</td>\n",
       "      <td>PA</td>\n",
       "      <td>2500</td>\n",
       "      <td>2048</td>\n",
       "      <td>0.168</td>\n",
       "      <td>...</td>\n",
       "      <td>0</td>\n",
       "      <td>0</td>\n",
       "      <td>0</td>\n",
       "      <td>0</td>\n",
       "      <td>0</td>\n",
       "      <td>1</td>\n",
       "      <td>0</td>\n",
       "      <td>0</td>\n",
       "      <td>0</td>\n",
       "      <td>0</td>\n",
       "    </tr>\n",
       "  </tbody>\n",
       "</table>\n",
       "<p>3 rows × 27 columns</p>\n",
       "</div>"
      ],
      "text/plain": [
       "            Image Index         Finding Labels  Follow-up #  Patient ID  \\\n",
       "7481   00001967_000.png               Fibrosis            0        1967   \n",
       "83803  00020594_001.png  Fibrosis|Infiltration            1       20594   \n",
       "93729  00023604_005.png             No Finding            5       23604   \n",
       "\n",
       "       Patient Age Patient Gender View Position  OriginalImage[Width  Height]  \\\n",
       "7481            33              M            PA                 2500     2048   \n",
       "83803           58              M            PA                 3056     2512   \n",
       "93729           54              M            PA                 2500     2048   \n",
       "\n",
       "       OriginalImagePixelSpacing[x  ...  Emphysema  Fibrosis  Hernia  \\\n",
       "7481                         0.168  ...          0         1       0   \n",
       "83803                        0.139  ...          0         1       0   \n",
       "93729                        0.168  ...          0         0       0   \n",
       "\n",
       "       Infiltration  Mass  No Finding  Nodule  Pleural_Thickening  Pneumonia  \\\n",
       "7481              0     0           0       0                   0          0   \n",
       "83803             1     0           0       0                   0          0   \n",
       "93729             0     0           1       0                   0          0   \n",
       "\n",
       "       Pneumothorax  \n",
       "7481              0  \n",
       "83803             0  \n",
       "93729             0  \n",
       "\n",
       "[3 rows x 27 columns]"
      ]
     },
     "execution_count": 4,
     "metadata": {},
     "output_type": "execute_result"
    }
   ],
   "source": [
    "## EDA\n",
    "# Split Finding Labels column and turn each label into a column with a binary Flag\n",
    "labels = np.unique(list(chain(*all_xray_df[\"Finding Labels\"].map(lambda x: x.split(\"|\")))))\n",
    "print(\"Labels: \", labels)\n",
    "for label in labels:\n",
    "    all_xray_df[label] = all_xray_df[\"Finding Labels\"].map(lambda x: 1 if label in x else 0)\n",
    "    \n",
    "all_xray_df.sample(3)"
   ]
  },
  {
   "cell_type": "markdown",
   "metadata": {},
   "source": [
    "### Population Caracteristics\n",
    "\n",
    "#### Age"
   ]
  },
  {
   "cell_type": "code",
   "execution_count": 5,
   "metadata": {},
   "outputs": [
    {
     "name": "stdout",
     "output_type": "stream",
     "text": [
      "Age Count\n",
      " 412    3\n",
      "148    2\n",
      "155    2\n",
      "414    1\n",
      "413    1\n",
      "411    1\n",
      "154    1\n",
      "153    1\n",
      "152    1\n",
      "151    1\n",
      "150    1\n",
      "149    1\n",
      "Name: Patient Age, dtype: int64\n",
      "\n",
      "Data frame length:  112120\n",
      "Number of patients older than 100 years old:  16\n",
      "Patients older than 100 years old: 0.01 %\n"
     ]
    }
   ],
   "source": [
    "df_length = len(all_xray_df)\n",
    "df_older100 = len(all_xray_df[\"Patient Age\"][all_xray_df[\"Patient Age\"] > 100])\n",
    "print(\"Age Count\\n\", all_xray_df[\"Patient Age\"][all_xray_df[\"Patient Age\"] > 100].value_counts())\n",
    "print(\"\\nData frame length: \", df_length)\n",
    "print(\"Number of patients older than 100 years old: \", df_older100)\n",
    "print(\"Patients older than 100 years old: %0.2f %%\"%(df_older100 / df_length * 100))"
   ]
  },
  {
   "cell_type": "markdown",
   "metadata": {},
   "source": [
    "There are patients with ages older than 100 years old in the data set. Each year bigger than 100 appears only once in the data set most of the time, so they are likely input errors and will be ignored for the age distribution."
   ]
  },
  {
   "cell_type": "code",
   "execution_count": 6,
   "metadata": {},
   "outputs": [
    {
     "name": "stdout",
     "output_type": "stream",
     "text": [
      "Minimum age:  1\n",
      "Maximum age:  95\n"
     ]
    },
    {
     "data": {
      "image/png": "[encoded data removed]",
      "text/plain": [
       "<Figure size 432x288 with 1 Axes>"
      ]
     },
     "metadata": {
      "needs_background": "light"
     },
     "output_type": "display_data"
    }
   ],
   "source": [
    "filt1 = (all_xray_df[\"Patient Age\"] < 100)\n",
    "\n",
    "age_pop = all_xray_df[\"Patient Age\"][filt1]\n",
    "_ = age_pop.hist()\n",
    "_ = plt.xlabel(\"Age\", size=15)\n",
    "_ = plt.ylabel(\"Number of counts\", size=15)\n",
    "_ = plt.title(\"All patients\", size=20)\n",
    "\n",
    "print(\"Minimum age: \", min(age_pop))\n",
    "print(\"Maximum age: \", max(age_pop))"
   ]
  },
  {
   "cell_type": "code",
   "execution_count": 7,
   "metadata": {},
   "outputs": [
    {
     "name": "stdout",
     "output_type": "stream",
     "text": [
      "Minimum age:  2\n",
      "Maximum age:  90\n"
     ]
    },
    {
     "data": {
      "image/png": "[encoded data removed]",
      "text/plain": [
       "<Figure size 432x288 with 1 Axes>"
      ]
     },
     "metadata": {
      "needs_background": "light"
     },
     "output_type": "display_data"
    }
   ],
   "source": [
    "filt2 = (all_xray_df.Pneumonia == 1)\n",
    "\n",
    "age_pop = all_xray_df[\"Patient Age\"][filt1 & filt2]\n",
    "_ = age_pop.hist()\n",
    "_ = plt.xlabel(\"Age\", size=15)\n",
    "_ = plt.ylabel(\"Number of counts\", size=15)\n",
    "_ = plt.title(\"Patients with Pneumonia\", size=20)\n",
    "\n",
    "print(\"Minimum age: \", min(age_pop))\n",
    "print(\"Maximum age: \", max(age_pop))"
   ]
  },
  {
   "cell_type": "markdown",
   "metadata": {},
   "source": [
    "The data set population includes individuals from 1 to 95 years old with a peak around 50. The population with penumonia includes individuals from 2 to 90 years old with a peak around 60.\n",
    "\n",
    "#### Sex"
   ]
  },
  {
   "cell_type": "code",
   "execution_count": 8,
   "metadata": {},
   "outputs": [
    {
     "name": "stdout",
     "output_type": "stream",
     "text": [
      "Males: 56.49 %\n",
      "Females: 43.51 %\n"
     ]
    },
    {
     "data": {
      "image/png": "[encoded data removed]",
      "text/plain": [
       "<Figure size 432x288 with 1 Axes>"
      ]
     },
     "metadata": {
      "needs_background": "light"
     },
     "output_type": "display_data"
    }
   ],
   "source": [
    "sex_pop = all_xray_df[\"Patient Gender\"]\n",
    "_ = sex_pop.hist()\n",
    "_ = plt.xlabel(\"Gender\", size=15)\n",
    "_ = plt.ylabel(\"Number of counts\", size=15)\n",
    "_ = plt.title(\"All patients\", size=20)\n",
    "\n",
    "numM = sex_pop.value_counts()[0]\n",
    "numF = sex_pop.value_counts()[1]\n",
    "print(\"Males: %.2f %%\"%(100 * numM / len(sex_pop)))\n",
    "print(\"Females: %.2f %%\"%(100 * numF / len(sex_pop)))"
   ]
  },
  {
   "cell_type": "code",
   "execution_count": 12,
   "metadata": {},
   "outputs": [
    {
     "name": "stdout",
     "output_type": "stream",
     "text": [
      "Males: 58.56 %\n",
      "Females: 41.44 %\n"
     ]
    },
    {
     "data": {
      "image/png": "[encoded data removed]",
      "text/plain": [
       "<Figure size 432x288 with 1 Axes>"
      ]
     },
     "metadata": {
      "needs_background": "light"
     },
     "output_type": "display_data"
    }
   ],
   "source": [
    "sex_pop = all_xray_df[\"Patient Gender\"][filt2]\n",
    "_ = sex_pop.hist()\n",
    "_ = plt.xlabel(\"Gender\", size=15)\n",
    "_ = plt.ylabel(\"Number of counts\", size=15)\n",
    "_ = plt.title(\"Patients with pneumonia\", size=20)\n",
    "\n",
    "numM = sex_pop.value_counts()[0]\n",
    "numF = sex_pop.value_counts()[1]\n",
    "print(\"Males: %.2f %%\"%(100 * numM / len(sex_pop)))\n",
    "print(\"Females: %.2f %%\"%(100 * numF / len(sex_pop)))"
   ]
  },
  {
   "cell_type": "markdown",
   "metadata": {},
   "source": [
    "Considering population gender, males are dominant for the total population and the population with pneumonia.\n",
    "\n",
    "#### X-ray view position"
   ]
  },
  {
   "cell_type": "code",
   "execution_count": 10,
   "metadata": {},
   "outputs": [
    {
     "name": "stdout",
     "output_type": "stream",
     "text": [
      "PA: 60.03 %\n",
      "AP: 39.97 %\n"
     ]
    },
    {
     "data": {
      "image/png": "[encoded data removed]",
      "text/plain": [
       "<Figure size 432x288 with 1 Axes>"
      ]
     },
     "metadata": {
      "needs_background": "light"
     },
     "output_type": "display_data"
    }
   ],
   "source": [
    "position_pop = all_xray_df[\"View Position\"]\n",
    "_ = position_pop.hist()\n",
    "_ = plt.xlabel(\"X-ray view position\", size=15)\n",
    "_ = plt.ylabel(\"Number of counts\", size=15)\n",
    "_ = plt.title(\"All patients\", size=20)\n",
    "\n",
    "numPA = position_pop.value_counts()[0]\n",
    "numAP = position_pop.value_counts()[1]\n",
    "print(\"PA: %.2f %%\"%(100 * numPA / len(position_pop)))\n",
    "print(\"AP: %.2f %%\"%(100 * numAP / len(position_pop)))"
   ]
  },
  {
   "cell_type": "code",
   "execution_count": 13,
   "metadata": {},
   "outputs": [
    {
     "name": "stdout",
     "output_type": "stream",
     "text": [
      "PA: 55.97 %\n",
      "AP: 44.03 %\n"
     ]
    },
    {
     "data": {
      "image/png": "[encoded data removed]",
      "text/plain": [
       "<Figure size 432x288 with 1 Axes>"
      ]
     },
     "metadata": {
      "needs_background": "light"
     },
     "output_type": "display_data"
    }
   ],
   "source": [
    "position_pop = all_xray_df[\"View Position\"][filt2]\n",
    "_ = position_pop.hist()\n",
    "_ = plt.xlabel(\"X-ray view position\", size=15)\n",
    "_ = plt.ylabel(\"Number of counts\", size=15)\n",
    "_ = plt.title(\"Patients with pneumonia\", size=20)\n",
    "\n",
    "numPA = position_pop.value_counts()[0]\n",
    "numAP = position_pop.value_counts()[1]\n",
    "print(\"PA: %.2f %%\"%(100 * numPA / len(position_pop)))\n",
    "print(\"AP: %.2f %%\"%(100 * numAP / len(position_pop)))"
   ]
  },
  {
   "cell_type": "markdown",
   "metadata": {},
   "source": [
    "The PA position is predominant for all patients as well as for patients with pneumonia.\n",
    "\n",
    "#### Presence of pneumonia"
   ]
  },
  {
   "cell_type": "code",
   "execution_count": 129,
   "metadata": {},
   "outputs": [
    {
     "name": "stdout",
     "output_type": "stream",
     "text": [
      "Absence of pneumonia: 98.72 %\n",
      "Presence of pneumonia: 1.28 %\n"
     ]
    },
    {
     "data": {
      "image/png": "[encoded data removed]",
      "text/plain": [
       "<Figure size 432x288 with 1 Axes>"
      ]
     },
     "metadata": {
      "needs_background": "light"
     },
     "output_type": "display_data"
    }
   ],
   "source": [
    "pneumonia_pop = all_xray_df.Pneumonia\n",
    "_ = pneumonia_pop.hist()\n",
    "_ = plt.xlabel(\"X-ray view position\", size=15)\n",
    "_ = plt.ylabel(\"Number of counts\", size=15)\n",
    "_ = plt.title(\"All patients\", size=20)\n",
    "\n",
    "num0 = pneumonia_pop.value_counts()[0]\n",
    "num1 = pneumonia_pop.value_counts()[1]\n",
    "print(\"Absence of pneumonia: %.2f %%\"%(100 * num0 / len(pneumonia_pop)))\n",
    "print(\"Presence of pneumonia: %.2f %%\"%(100 * num1 / len(pneumonia_pop)))"
   ]
  },
  {
   "cell_type": "markdown",
   "metadata": {},
   "source": [
    "Only 1.28% of the analyzed population has pneumonia.\n",
    "\n",
    "### Comorbidities with pneumonia"
   ]
  },
  {
   "cell_type": "code",
   "execution_count": 14,
   "metadata": {},
   "outputs": [
    {
     "data": {
      "image/png": "[encoded data removed]",
      "text/plain": [
       "<Figure size 720x576 with 2 Axes>"
      ]
     },
     "metadata": {
      "needs_background": "light"
     },
     "output_type": "display_data"
    },
    {
     "data": {
      "text/html": [
       "<div>\n",
       "<style scoped>\n",
       "    .dataframe tbody tr th:only-of-type {\n",
       "        vertical-align: middle;\n",
       "    }\n",
       "\n",
       "    .dataframe tbody tr th {\n",
       "        vertical-align: top;\n",
       "    }\n",
       "\n",
       "    .dataframe thead th {\n",
       "        text-align: right;\n",
       "    }\n",
       "</style>\n",
       "<table border=\"1\" class=\"dataframe\">\n",
       "  <thead>\n",
       "    <tr style=\"text-align: right;\">\n",
       "      <th></th>\n",
       "      <th>Atelectasis</th>\n",
       "      <th>Cardiomegaly</th>\n",
       "      <th>Consolidation</th>\n",
       "      <th>Edema</th>\n",
       "      <th>Effusion</th>\n",
       "      <th>Emphysema</th>\n",
       "      <th>Fibrosis</th>\n",
       "      <th>Hernia</th>\n",
       "      <th>Infiltration</th>\n",
       "      <th>Mass</th>\n",
       "      <th>No Finding</th>\n",
       "      <th>Nodule</th>\n",
       "      <th>Pleural_Thickening</th>\n",
       "      <th>Pneumonia</th>\n",
       "      <th>Pneumothorax</th>\n",
       "    </tr>\n",
       "  </thead>\n",
       "  <tbody>\n",
       "    <tr>\n",
       "      <th>Atelectasis</th>\n",
       "      <td>1.000000</td>\n",
       "      <td>0.015819</td>\n",
       "      <td>0.108943</td>\n",
       "      <td>-0.003397</td>\n",
       "      <td>0.172445</td>\n",
       "      <td>0.032599</td>\n",
       "      <td>0.011130</td>\n",
       "      <td>0.010830</td>\n",
       "      <td>0.093131</td>\n",
       "      <td>0.018953</td>\n",
       "      <td>-0.366126</td>\n",
       "      <td>-0.007967</td>\n",
       "      <td>0.025202</td>\n",
       "      <td>0.029911</td>\n",
       "      <td>0.031422</td>\n",
       "    </tr>\n",
       "    <tr>\n",
       "      <th>Cardiomegaly</th>\n",
       "      <td>0.015819</td>\n",
       "      <td>1.000000</td>\n",
       "      <td>0.015360</td>\n",
       "      <td>0.028318</td>\n",
       "      <td>0.130094</td>\n",
       "      <td>-0.007090</td>\n",
       "      <td>0.004837</td>\n",
       "      <td>0.001762</td>\n",
       "      <td>0.014189</td>\n",
       "      <td>-0.010682</td>\n",
       "      <td>-0.172067</td>\n",
       "      <td>-0.012123</td>\n",
       "      <td>0.009121</td>\n",
       "      <td>0.002848</td>\n",
       "      <td>-0.022248</td>\n",
       "    </tr>\n",
       "    <tr>\n",
       "      <th>Consolidation</th>\n",
       "      <td>0.108943</td>\n",
       "      <td>0.015360</td>\n",
       "      <td>1.000000</td>\n",
       "      <td>0.020822</td>\n",
       "      <td>0.101130</td>\n",
       "      <td>-0.000521</td>\n",
       "      <td>0.003236</td>\n",
       "      <td>-0.005413</td>\n",
       "      <td>0.045926</td>\n",
       "      <td>0.074573</td>\n",
       "      <td>-0.225058</td>\n",
       "      <td>0.031819</td>\n",
       "      <td>0.028733</td>\n",
       "      <td>0.025235</td>\n",
       "      <td>0.000485</td>\n",
       "    </tr>\n",
       "    <tr>\n",
       "      <th>Edema</th>\n",
       "      <td>-0.003397</td>\n",
       "      <td>0.028318</td>\n",
       "      <td>0.020822</td>\n",
       "      <td>1.000000</td>\n",
       "      <td>0.062092</td>\n",
       "      <td>-0.009204</td>\n",
       "      <td>-0.013243</td>\n",
       "      <td>-0.002326</td>\n",
       "      <td>0.094208</td>\n",
       "      <td>0.002910</td>\n",
       "      <td>-0.156386</td>\n",
       "      <td>0.000261</td>\n",
       "      <td>-0.002032</td>\n",
       "      <td>0.173996</td>\n",
       "      <td>-0.022487</td>\n",
       "    </tr>\n",
       "    <tr>\n",
       "      <th>Effusion</th>\n",
       "      <td>0.172445</td>\n",
       "      <td>0.130094</td>\n",
       "      <td>0.101130</td>\n",
       "      <td>0.062092</td>\n",
       "      <td>1.000000</td>\n",
       "      <td>0.011198</td>\n",
       "      <td>-0.002776</td>\n",
       "      <td>-0.003656</td>\n",
       "      <td>0.118136</td>\n",
       "      <td>0.070710</td>\n",
       "      <td>-0.396464</td>\n",
       "      <td>0.019114</td>\n",
       "      <td>0.072009</td>\n",
       "      <td>0.024322</td>\n",
       "      <td>0.047571</td>\n",
       "    </tr>\n",
       "    <tr>\n",
       "      <th>Emphysema</th>\n",
       "      <td>0.032599</td>\n",
       "      <td>-0.007090</td>\n",
       "      <td>-0.000521</td>\n",
       "      <td>-0.009204</td>\n",
       "      <td>0.011198</td>\n",
       "      <td>1.000000</td>\n",
       "      <td>-0.000908</td>\n",
       "      <td>-0.001466</td>\n",
       "      <td>0.000406</td>\n",
       "      <td>0.023213</td>\n",
       "      <td>-0.163617</td>\n",
       "      <td>-0.007062</td>\n",
       "      <td>0.026408</td>\n",
       "      <td>-0.004888</td>\n",
       "      <td>0.178175</td>\n",
       "    </tr>\n",
       "    <tr>\n",
       "      <th>Fibrosis</th>\n",
       "      <td>0.011130</td>\n",
       "      <td>0.004837</td>\n",
       "      <td>0.003236</td>\n",
       "      <td>-0.013243</td>\n",
       "      <td>-0.002776</td>\n",
       "      <td>-0.000908</td>\n",
       "      <td>1.000000</td>\n",
       "      <td>0.007478</td>\n",
       "      <td>0.008794</td>\n",
       "      <td>0.009959</td>\n",
       "      <td>-0.133433</td>\n",
       "      <td>0.022478</td>\n",
       "      <td>0.053578</td>\n",
       "      <td>-0.006867</td>\n",
       "      <td>0.000094</td>\n",
       "    </tr>\n",
       "    <tr>\n",
       "      <th>Hernia</th>\n",
       "      <td>0.010830</td>\n",
       "      <td>0.001762</td>\n",
       "      <td>-0.005413</td>\n",
       "      <td>-0.002326</td>\n",
       "      <td>-0.003656</td>\n",
       "      <td>-0.001466</td>\n",
       "      <td>0.007478</td>\n",
       "      <td>1.000000</td>\n",
       "      <td>-0.003780</td>\n",
       "      <td>0.011927</td>\n",
       "      <td>-0.048640</td>\n",
       "      <td>-0.002422</td>\n",
       "      <td>0.001330</td>\n",
       "      <td>0.000182</td>\n",
       "      <td>-0.001621</td>\n",
       "    </tr>\n",
       "    <tr>\n",
       "      <th>Infiltration</th>\n",
       "      <td>0.093131</td>\n",
       "      <td>0.014189</td>\n",
       "      <td>0.045926</td>\n",
       "      <td>0.094208</td>\n",
       "      <td>0.118136</td>\n",
       "      <td>0.000406</td>\n",
       "      <td>0.008794</td>\n",
       "      <td>-0.003780</td>\n",
       "      <td>1.000000</td>\n",
       "      <td>0.014047</td>\n",
       "      <td>-0.501556</td>\n",
       "      <td>0.042749</td>\n",
       "      <td>0.020381</td>\n",
       "      <td>0.073020</td>\n",
       "      <td>0.000576</td>\n",
       "    </tr>\n",
       "    <tr>\n",
       "      <th>Mass</th>\n",
       "      <td>0.018953</td>\n",
       "      <td>-0.010682</td>\n",
       "      <td>0.074573</td>\n",
       "      <td>0.002910</td>\n",
       "      <td>0.070710</td>\n",
       "      <td>0.023213</td>\n",
       "      <td>0.009959</td>\n",
       "      <td>0.011927</td>\n",
       "      <td>0.014047</td>\n",
       "      <td>1.000000</td>\n",
       "      <td>-0.251814</td>\n",
       "      <td>0.101253</td>\n",
       "      <td>0.065388</td>\n",
       "      <td>-0.001005</td>\n",
       "      <td>0.029940</td>\n",
       "    </tr>\n",
       "    <tr>\n",
       "      <th>No Finding</th>\n",
       "      <td>-0.366126</td>\n",
       "      <td>-0.172067</td>\n",
       "      <td>-0.225058</td>\n",
       "      <td>-0.156386</td>\n",
       "      <td>-0.396464</td>\n",
       "      <td>-0.163617</td>\n",
       "      <td>-0.133433</td>\n",
       "      <td>-0.048640</td>\n",
       "      <td>-0.501556</td>\n",
       "      <td>-0.251814</td>\n",
       "      <td>1.000000</td>\n",
       "      <td>-0.264181</td>\n",
       "      <td>-0.190537</td>\n",
       "      <td>-0.122787</td>\n",
       "      <td>-0.240593</td>\n",
       "    </tr>\n",
       "    <tr>\n",
       "      <th>Nodule</th>\n",
       "      <td>-0.007967</td>\n",
       "      <td>-0.012123</td>\n",
       "      <td>0.031819</td>\n",
       "      <td>0.000261</td>\n",
       "      <td>0.019114</td>\n",
       "      <td>-0.007062</td>\n",
       "      <td>0.022478</td>\n",
       "      <td>-0.002422</td>\n",
       "      <td>0.042749</td>\n",
       "      <td>0.101253</td>\n",
       "      <td>-0.264181</td>\n",
       "      <td>1.000000</td>\n",
       "      <td>0.049649</td>\n",
       "      <td>-0.003719</td>\n",
       "      <td>0.007576</td>\n",
       "    </tr>\n",
       "    <tr>\n",
       "      <th>Pleural_Thickening</th>\n",
       "      <td>0.025202</td>\n",
       "      <td>0.009121</td>\n",
       "      <td>0.028733</td>\n",
       "      <td>-0.002032</td>\n",
       "      <td>0.072009</td>\n",
       "      <td>0.026408</td>\n",
       "      <td>0.053578</td>\n",
       "      <td>0.001330</td>\n",
       "      <td>0.020381</td>\n",
       "      <td>0.065388</td>\n",
       "      <td>-0.190537</td>\n",
       "      <td>0.049649</td>\n",
       "      <td>1.000000</td>\n",
       "      <td>0.002227</td>\n",
       "      <td>0.031661</td>\n",
       "    </tr>\n",
       "    <tr>\n",
       "      <th>Pneumonia</th>\n",
       "      <td>0.029911</td>\n",
       "      <td>0.002848</td>\n",
       "      <td>0.025235</td>\n",
       "      <td>0.173996</td>\n",
       "      <td>0.024322</td>\n",
       "      <td>-0.004888</td>\n",
       "      <td>-0.006867</td>\n",
       "      <td>0.000182</td>\n",
       "      <td>0.073020</td>\n",
       "      <td>-0.001005</td>\n",
       "      <td>-0.122787</td>\n",
       "      <td>-0.003719</td>\n",
       "      <td>0.002227</td>\n",
       "      <td>1.000000</td>\n",
       "      <td>-0.009984</td>\n",
       "    </tr>\n",
       "    <tr>\n",
       "      <th>Pneumothorax</th>\n",
       "      <td>0.031422</td>\n",
       "      <td>-0.022248</td>\n",
       "      <td>0.000485</td>\n",
       "      <td>-0.022487</td>\n",
       "      <td>0.047571</td>\n",
       "      <td>0.178175</td>\n",
       "      <td>0.000094</td>\n",
       "      <td>-0.001621</td>\n",
       "      <td>0.000576</td>\n",
       "      <td>0.029940</td>\n",
       "      <td>-0.240593</td>\n",
       "      <td>0.007576</td>\n",
       "      <td>0.031661</td>\n",
       "      <td>-0.009984</td>\n",
       "      <td>1.000000</td>\n",
       "    </tr>\n",
       "  </tbody>\n",
       "</table>\n",
       "</div>"
      ],
      "text/plain": [
       "                    Atelectasis  Cardiomegaly  Consolidation     Edema  \\\n",
       "Atelectasis            1.000000      0.015819       0.108943 -0.003397   \n",
       "Cardiomegaly           0.015819      1.000000       0.015360  0.028318   \n",
       "Consolidation          0.108943      0.015360       1.000000  0.020822   \n",
       "Edema                 -0.003397      0.028318       0.020822  1.000000   \n",
       "Effusion               0.172445      0.130094       0.101130  0.062092   \n",
       "Emphysema              0.032599     -0.007090      -0.000521 -0.009204   \n",
       "Fibrosis               0.011130      0.004837       0.003236 -0.013243   \n",
       "Hernia                 0.010830      0.001762      -0.005413 -0.002326   \n",
       "Infiltration           0.093131      0.014189       0.045926  0.094208   \n",
       "Mass                   0.018953     -0.010682       0.074573  0.002910   \n",
       "No Finding            -0.366126     -0.172067      -0.225058 -0.156386   \n",
       "Nodule                -0.007967     -0.012123       0.031819  0.000261   \n",
       "Pleural_Thickening     0.025202      0.009121       0.028733 -0.002032   \n",
       "Pneumonia              0.029911      0.002848       0.025235  0.173996   \n",
       "Pneumothorax           0.031422     -0.022248       0.000485 -0.022487   \n",
       "\n",
       "                    Effusion  Emphysema  Fibrosis    Hernia  Infiltration  \\\n",
       "Atelectasis         0.172445   0.032599  0.011130  0.010830      0.093131   \n",
       "Cardiomegaly        0.130094  -0.007090  0.004837  0.001762      0.014189   \n",
       "Consolidation       0.101130  -0.000521  0.003236 -0.005413      0.045926   \n",
       "Edema               0.062092  -0.009204 -0.013243 -0.002326      0.094208   \n",
       "Effusion            1.000000   0.011198 -0.002776 -0.003656      0.118136   \n",
       "Emphysema           0.011198   1.000000 -0.000908 -0.001466      0.000406   \n",
       "Fibrosis           -0.002776  -0.000908  1.000000  0.007478      0.008794   \n",
       "Hernia             -0.003656  -0.001466  0.007478  1.000000     -0.003780   \n",
       "Infiltration        0.118136   0.000406  0.008794 -0.003780      1.000000   \n",
       "Mass                0.070710   0.023213  0.009959  0.011927      0.014047   \n",
       "No Finding         -0.396464  -0.163617 -0.133433 -0.048640     -0.501556   \n",
       "Nodule              0.019114  -0.007062  0.022478 -0.002422      0.042749   \n",
       "Pleural_Thickening  0.072009   0.026408  0.053578  0.001330      0.020381   \n",
       "Pneumonia           0.024322  -0.004888 -0.006867  0.000182      0.073020   \n",
       "Pneumothorax        0.047571   0.178175  0.000094 -0.001621      0.000576   \n",
       "\n",
       "                        Mass  No Finding    Nodule  Pleural_Thickening  \\\n",
       "Atelectasis         0.018953   -0.366126 -0.007967            0.025202   \n",
       "Cardiomegaly       -0.010682   -0.172067 -0.012123            0.009121   \n",
       "Consolidation       0.074573   -0.225058  0.031819            0.028733   \n",
       "Edema               0.002910   -0.156386  0.000261           -0.002032   \n",
       "Effusion            0.070710   -0.396464  0.019114            0.072009   \n",
       "Emphysema           0.023213   -0.163617 -0.007062            0.026408   \n",
       "Fibrosis            0.009959   -0.133433  0.022478            0.053578   \n",
       "Hernia              0.011927   -0.048640 -0.002422            0.001330   \n",
       "Infiltration        0.014047   -0.501556  0.042749            0.020381   \n",
       "Mass                1.000000   -0.251814  0.101253            0.065388   \n",
       "No Finding         -0.251814    1.000000 -0.264181           -0.190537   \n",
       "Nodule              0.101253   -0.264181  1.000000            0.049649   \n",
       "Pleural_Thickening  0.065388   -0.190537  0.049649            1.000000   \n",
       "Pneumonia          -0.001005   -0.122787 -0.003719            0.002227   \n",
       "Pneumothorax        0.029940   -0.240593  0.007576            0.031661   \n",
       "\n",
       "                    Pneumonia  Pneumothorax  \n",
       "Atelectasis          0.029911      0.031422  \n",
       "Cardiomegaly         0.002848     -0.022248  \n",
       "Consolidation        0.025235      0.000485  \n",
       "Edema                0.173996     -0.022487  \n",
       "Effusion             0.024322      0.047571  \n",
       "Emphysema           -0.004888      0.178175  \n",
       "Fibrosis            -0.006867      0.000094  \n",
       "Hernia               0.000182     -0.001621  \n",
       "Infiltration         0.073020      0.000576  \n",
       "Mass                -0.001005      0.029940  \n",
       "No Finding          -0.122787     -0.240593  \n",
       "Nodule              -0.003719      0.007576  \n",
       "Pleural_Thickening   0.002227      0.031661  \n",
       "Pneumonia            1.000000     -0.009984  \n",
       "Pneumothorax        -0.009984      1.000000  "
      ]
     },
     "execution_count": 14,
     "metadata": {},
     "output_type": "execute_result"
    }
   ],
   "source": [
    "corr_matrix = all_xray_df.iloc[:,-len(labels):].corr() # correlation matrix\n",
    "plt.figure(figsize=(10,8))\n",
    "sns.heatmap(corr_matrix)\n",
    "plt.show()\n",
    "corr_matrix"
   ]
  },
  {
   "cell_type": "code",
   "execution_count": 15,
   "metadata": {},
   "outputs": [
    {
     "data": {
      "image/png": "[encoded data removed]",
      "text/plain": [
       "<Figure size 1152x720 with 1 Axes>"
      ]
     },
     "metadata": {
      "needs_background": "light"
     },
     "output_type": "display_data"
    }
   ],
   "source": [
    "plt.figure(figsize=(16, 10))\n",
    "comorbidities_numbers = all_xray_df[filt2]['Finding Labels'].value_counts()\n",
    "_ = (comorbidities_numbers / len(all_xray_df[filt2]) * 100)[:30].plot(kind='bar')\n",
    "_ = plt.ylabel('%', size=15)"
   ]
  },
  {
   "cell_type": "markdown",
   "metadata": {},
   "source": [
    "According to the correlation matrix, pneumonia's most common comorbidities are edema and infiltration. This confirmed by the histogram above, which also shows that in more than 75% of cases pneumonia is concurrent with another disease. The most common diseases with pneumonia are infiltration, edema, atelectasis and effusion. Only in around 22.5% of positive cases, pneumonia is found alone."
   ]
  },
  {
   "cell_type": "markdown",
   "metadata": {},
   "source": [
    "### Number of diseases per patient"
   ]
  },
  {
   "cell_type": "code",
   "execution_count": 16,
   "metadata": {},
   "outputs": [
    {
     "name": "stdout",
     "output_type": "stream",
     "text": [
      "Total patients:  112120\n",
      "Healthy patients: 53.84%\n",
      "\n",
      "Patients with disease(s): 46.16%\n",
      "Among them:\n",
      "Number Percentage\n",
      " 1    59.821480\n",
      "2    27.639638\n",
      "3     9.381943\n",
      "4     2.409243\n",
      "5     0.581541\n",
      "6     0.129446\n",
      "7     0.030912\n",
      "8     0.001932\n",
      "9     0.003864\n",
      "dtype: float64\n"
     ]
    },
    {
     "data": {
      "image/png": "[encoded data removed]",
      "text/plain": [
       "<Figure size 432x288 with 1 Axes>"
      ]
     },
     "metadata": {
      "needs_background": "light"
     },
     "output_type": "display_data"
    }
   ],
   "source": [
    "filt3 = (all_xray_df[\"No Finding\"] == 0)\n",
    "total_patients = len(all_xray_df)\n",
    "findings = len(all_xray_df[filt3])\n",
    "no_findings = all_xray_df[\"No Finding\"].sum()\n",
    "\n",
    "percNumDiseases = all_xray_df[filt3].iloc[:, -len(labels):].sum(axis=1).value_counts(normalize=True, sort=False) * 100\n",
    "\n",
    "_ = percNumDiseases.plot(kind='bar')\n",
    "_ = plt.xlabel(\"Number of findings\", size=15)\n",
    "_ = plt.ylabel(\"Percentage (%)\", size = 15)\n",
    "_ = plt.title(\"Sick patients with one or more diseases\", size=17)\n",
    "\n",
    "print(\"Total patients: \", total_patients)\n",
    "print(\"Healthy patients: %.2f%%\"%(no_findings / total_patients * 100))\n",
    "print(\"\\nPatients with disease(s): %0.2f%%\"%(findings / total_patients * 100))\n",
    "print(\"Among them:\\nNumber Percentage\\n\", percNumDiseases)"
   ]
  },
  {
   "cell_type": "markdown",
   "metadata": {},
   "source": [
    "46.16% of the patients have one or more diseases. Among them, almost 60% have only one disease, around 28% have two diseases and around 9% three diseases. Combined, patients with 4 or more diseases represent around 3% of the patients with a condition."
   ]
  },
  {
   "cell_type": "markdown",
   "metadata": {},
   "source": [
    "### Pixel level assesment of images"
   ]
  },
  {
   "cell_type": "code",
   "execution_count": 17,
   "metadata": {},
   "outputs": [
    {
     "data": {
      "text/html": [
       "<div>\n",
       "<style scoped>\n",
       "    .dataframe tbody tr th:only-of-type {\n",
       "        vertical-align: middle;\n",
       "    }\n",
       "\n",
       "    .dataframe tbody tr th {\n",
       "        vertical-align: top;\n",
       "    }\n",
       "\n",
       "    .dataframe thead th {\n",
       "        text-align: right;\n",
       "    }\n",
       "</style>\n",
       "<table border=\"1\" class=\"dataframe\">\n",
       "  <thead>\n",
       "    <tr style=\"text-align: right;\">\n",
       "      <th></th>\n",
       "      <th>Image Index</th>\n",
       "      <th>Finding Labels</th>\n",
       "      <th>Follow-up #</th>\n",
       "      <th>Patient ID</th>\n",
       "      <th>Patient Age</th>\n",
       "      <th>Patient Gender</th>\n",
       "      <th>View Position</th>\n",
       "      <th>OriginalImageWidth</th>\n",
       "      <th>OriginalImageHeight</th>\n",
       "      <th>OriginalImagePixelSpacing_x</th>\n",
       "      <th>OriginalImagePixelSpacing_y</th>\n",
       "    </tr>\n",
       "  </thead>\n",
       "  <tbody>\n",
       "    <tr>\n",
       "      <th>1183</th>\n",
       "      <td>00006271_037.png</td>\n",
       "      <td>No Finding</td>\n",
       "      <td>37</td>\n",
       "      <td>6271</td>\n",
       "      <td>040Y</td>\n",
       "      <td>M</td>\n",
       "      <td>AP</td>\n",
       "      <td>2500</td>\n",
       "      <td>2048</td>\n",
       "      <td>0.171000</td>\n",
       "      <td>0.171000</td>\n",
       "    </tr>\n",
       "    <tr>\n",
       "      <th>640</th>\n",
       "      <td>00003303_000.png</td>\n",
       "      <td>No Finding</td>\n",
       "      <td>0</td>\n",
       "      <td>3303</td>\n",
       "      <td>039Y</td>\n",
       "      <td>F</td>\n",
       "      <td>PA</td>\n",
       "      <td>2048</td>\n",
       "      <td>2500</td>\n",
       "      <td>0.171000</td>\n",
       "      <td>0.171000</td>\n",
       "    </tr>\n",
       "    <tr>\n",
       "      <th>4391</th>\n",
       "      <td>00021670_027.png</td>\n",
       "      <td>Atelectasis|Cardiomegaly|Effusion</td>\n",
       "      <td>27</td>\n",
       "      <td>21670</td>\n",
       "      <td>045Y</td>\n",
       "      <td>M</td>\n",
       "      <td>PA</td>\n",
       "      <td>2021</td>\n",
       "      <td>2021</td>\n",
       "      <td>0.194311</td>\n",
       "      <td>0.194311</td>\n",
       "    </tr>\n",
       "  </tbody>\n",
       "</table>\n",
       "</div>"
      ],
      "text/plain": [
       "           Image Index                     Finding Labels  Follow-up #  \\\n",
       "1183  00006271_037.png                         No Finding           37   \n",
       "640   00003303_000.png                         No Finding            0   \n",
       "4391  00021670_027.png  Atelectasis|Cardiomegaly|Effusion           27   \n",
       "\n",
       "      Patient ID Patient Age Patient Gender View Position  OriginalImageWidth  \\\n",
       "1183        6271        040Y              M            AP                2500   \n",
       "640         3303        039Y              F            PA                2048   \n",
       "4391       21670        045Y              M            PA                2021   \n",
       "\n",
       "      OriginalImageHeight  OriginalImagePixelSpacing_x  \\\n",
       "1183                 2048                     0.171000   \n",
       "640                  2500                     0.171000   \n",
       "4391                 2021                     0.194311   \n",
       "\n",
       "      OriginalImagePixelSpacing_y  \n",
       "1183                     0.171000  \n",
       "640                      0.171000  \n",
       "4391                     0.194311  "
      ]
     },
     "execution_count": 17,
     "metadata": {},
     "output_type": "execute_result"
    }
   ],
   "source": [
    "sample_df = pd.read_csv('sample_labels.csv')\n",
    "sample_df.sample(3)"
   ]
  },
  {
   "cell_type": "code",
   "execution_count": 18,
   "metadata": {},
   "outputs": [
    {
     "name": "stdout",
     "output_type": "stream",
     "text": [
      "Labels:  ['Atelectasis' 'Cardiomegaly' 'Consolidation' 'Edema' 'Effusion'\n",
      " 'Emphysema' 'Fibrosis' 'Hernia' 'Infiltration' 'Mass' 'No Finding'\n",
      " 'Nodule' 'Pleural_Thickening' 'Pneumonia' 'Pneumothorax']\n"
     ]
    },
    {
     "data": {
      "text/html": [
       "<div>\n",
       "<style scoped>\n",
       "    .dataframe tbody tr th:only-of-type {\n",
       "        vertical-align: middle;\n",
       "    }\n",
       "\n",
       "    .dataframe tbody tr th {\n",
       "        vertical-align: top;\n",
       "    }\n",
       "\n",
       "    .dataframe thead th {\n",
       "        text-align: right;\n",
       "    }\n",
       "</style>\n",
       "<table border=\"1\" class=\"dataframe\">\n",
       "  <thead>\n",
       "    <tr style=\"text-align: right;\">\n",
       "      <th></th>\n",
       "      <th>Image Index</th>\n",
       "      <th>Finding Labels</th>\n",
       "      <th>Follow-up #</th>\n",
       "      <th>Patient ID</th>\n",
       "      <th>Patient Age</th>\n",
       "      <th>Patient Gender</th>\n",
       "      <th>View Position</th>\n",
       "      <th>OriginalImageWidth</th>\n",
       "      <th>OriginalImageHeight</th>\n",
       "      <th>OriginalImagePixelSpacing_x</th>\n",
       "      <th>...</th>\n",
       "      <th>Emphysema</th>\n",
       "      <th>Fibrosis</th>\n",
       "      <th>Hernia</th>\n",
       "      <th>Infiltration</th>\n",
       "      <th>Mass</th>\n",
       "      <th>No Finding</th>\n",
       "      <th>Nodule</th>\n",
       "      <th>Pleural_Thickening</th>\n",
       "      <th>Pneumonia</th>\n",
       "      <th>Pneumothorax</th>\n",
       "    </tr>\n",
       "  </thead>\n",
       "  <tbody>\n",
       "    <tr>\n",
       "      <th>3558</th>\n",
       "      <td>00017608_004.png</td>\n",
       "      <td>Infiltration</td>\n",
       "      <td>4</td>\n",
       "      <td>17608</td>\n",
       "      <td>067Y</td>\n",
       "      <td>M</td>\n",
       "      <td>AP</td>\n",
       "      <td>2500</td>\n",
       "      <td>2048</td>\n",
       "      <td>0.168</td>\n",
       "      <td>...</td>\n",
       "      <td>0</td>\n",
       "      <td>0</td>\n",
       "      <td>0</td>\n",
       "      <td>1</td>\n",
       "      <td>0</td>\n",
       "      <td>0</td>\n",
       "      <td>0</td>\n",
       "      <td>0</td>\n",
       "      <td>0</td>\n",
       "      <td>0</td>\n",
       "    </tr>\n",
       "    <tr>\n",
       "      <th>334</th>\n",
       "      <td>00001792_001.png</td>\n",
       "      <td>No Finding</td>\n",
       "      <td>1</td>\n",
       "      <td>1792</td>\n",
       "      <td>044Y</td>\n",
       "      <td>M</td>\n",
       "      <td>AP</td>\n",
       "      <td>3056</td>\n",
       "      <td>2544</td>\n",
       "      <td>0.139</td>\n",
       "      <td>...</td>\n",
       "      <td>0</td>\n",
       "      <td>0</td>\n",
       "      <td>0</td>\n",
       "      <td>0</td>\n",
       "      <td>0</td>\n",
       "      <td>1</td>\n",
       "      <td>0</td>\n",
       "      <td>0</td>\n",
       "      <td>0</td>\n",
       "      <td>0</td>\n",
       "    </tr>\n",
       "    <tr>\n",
       "      <th>776</th>\n",
       "      <td>00004075_000.png</td>\n",
       "      <td>Atelectasis|Pneumonia</td>\n",
       "      <td>0</td>\n",
       "      <td>4075</td>\n",
       "      <td>032Y</td>\n",
       "      <td>F</td>\n",
       "      <td>PA</td>\n",
       "      <td>2048</td>\n",
       "      <td>2500</td>\n",
       "      <td>0.171</td>\n",
       "      <td>...</td>\n",
       "      <td>0</td>\n",
       "      <td>0</td>\n",
       "      <td>0</td>\n",
       "      <td>0</td>\n",
       "      <td>0</td>\n",
       "      <td>0</td>\n",
       "      <td>0</td>\n",
       "      <td>0</td>\n",
       "      <td>1</td>\n",
       "      <td>0</td>\n",
       "    </tr>\n",
       "  </tbody>\n",
       "</table>\n",
       "<p>3 rows × 26 columns</p>\n",
       "</div>"
      ],
      "text/plain": [
       "           Image Index         Finding Labels  Follow-up #  Patient ID  \\\n",
       "3558  00017608_004.png           Infiltration            4       17608   \n",
       "334   00001792_001.png             No Finding            1        1792   \n",
       "776   00004075_000.png  Atelectasis|Pneumonia            0        4075   \n",
       "\n",
       "     Patient Age Patient Gender View Position  OriginalImageWidth  \\\n",
       "3558        067Y              M            AP                2500   \n",
       "334         044Y              M            AP                3056   \n",
       "776         032Y              F            PA                2048   \n",
       "\n",
       "      OriginalImageHeight  OriginalImagePixelSpacing_x  ...  Emphysema  \\\n",
       "3558                 2048                        0.168  ...          0   \n",
       "334                  2544                        0.139  ...          0   \n",
       "776                  2500                        0.171  ...          0   \n",
       "\n",
       "      Fibrosis  Hernia  Infiltration  Mass  No Finding  Nodule  \\\n",
       "3558         0       0             1     0           0       0   \n",
       "334          0       0             0     0           1       0   \n",
       "776          0       0             0     0           0       0   \n",
       "\n",
       "      Pleural_Thickening  Pneumonia  Pneumothorax  \n",
       "3558                   0          0             0  \n",
       "334                    0          0             0  \n",
       "776                    0          1             0  \n",
       "\n",
       "[3 rows x 26 columns]"
      ]
     },
     "execution_count": 18,
     "metadata": {},
     "output_type": "execute_result"
    }
   ],
   "source": [
    "# Split Finding Labels column and turn each label into a column with a binary Flag\n",
    "labels = np.unique(list(chain(*sample_df[\"Finding Labels\"].map(lambda x: x.split(\"|\")))))\n",
    "print(\"Labels: \", labels)\n",
    "for label in labels:\n",
    "    sample_df[label] = sample_df[\"Finding Labels\"].map(lambda x: 1 if label in x else 0)\n",
    "    \n",
    "sample_df.sample(3)"
   ]
  },
  {
   "cell_type": "code",
   "execution_count": null,
   "metadata": {},
   "outputs": [],
   "source": []
  }
 ],
 "metadata": {
  "kernelspec": {
   "display_name": "Python 3",
   "language": "python",
   "name": "python3"
  },
  "language_info": {
   "codemirror_mode": {
    "name": "ipython",
    "version": 3
   },
   "file_extension": ".py",
   "mimetype": "text/x-python",
   "name": "python",
   "nbconvert_exporter": "python",
   "pygments_lexer": "ipython3",
   "version": "3.7.7"
  }
 },
 "nbformat": 4,
 "nbformat_minor": 2
}
