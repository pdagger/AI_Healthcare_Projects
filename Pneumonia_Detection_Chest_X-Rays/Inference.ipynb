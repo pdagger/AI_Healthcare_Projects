{
 "cells": [
  {
   "cell_type": "code",
   "execution_count": 1,
   "metadata": {},
   "outputs": [
    {
     "name": "stderr",
     "output_type": "stream",
     "text": [
      "Using TensorFlow backend.\n"
     ]
    }
   ],
   "source": [
    "import numpy as np\n",
    "import pandas as pd\n",
    "import pydicom\n",
    "%matplotlib inline\n",
    "import matplotlib.pyplot as plt\n",
    "import keras \n",
    "from keras.models import model_from_json\n",
    "from skimage.transform import resize\n",
    "from keras.utils.vis_utils import plot_model"
   ]
  },
  {
   "cell_type": "code",
   "execution_count": 2,
   "metadata": {},
   "outputs": [],
   "source": [
    "# This function reads in a .dcm file, checks the important fields for our device, and returns a numpy array\n",
    "# of just the imaging data\n",
    "def check_dicom(filename): \n",
    "    \n",
    "    print('Load file {} ...'.format(filename))\n",
    "    ds = pydicom.dcmread(filename)\n",
    "    modality = ds.Modality\n",
    "    bodyPart = ds.BodyPartExamined\n",
    "    position = ds.PatientPosition\n",
    "    if ((modality == 'DX') & (bodyPart == 'CHEST') & (position in ['PA', 'AP'])):\n",
    "        return ds.pixel_array\n",
    "    \n",
    "    print(\"Invalid file: modality is not 'DX', or body part is not 'CHEST', or position is not 'AP' or 'PA'.\\n\")\n",
    "    return None\n",
    "    \n",
    "    \n",
    "# This function takes the numpy array output by check_dicom and \n",
    "# runs the appropriate pre-processing needed for our model input\n",
    "def preprocess_image(img, img_mean, img_std, img_size): \n",
    "    \n",
    "    #img = (img - img_mean) / (img_std * 255)\n",
    "    img = img / 255\n",
    "    img = resize(img, (img_size[1], img_size[2]), anti_aliasing=True)\n",
    "    \n",
    "    proc_img = np.zeros(img_size)\n",
    "    proc_img[0,:,:,0] = img\n",
    "    proc_img[0,:,:,1] = img\n",
    "    proc_img[0,:,:,2] = img\n",
    "    \n",
    "    return proc_img\n",
    "\n",
    "# This function loads in our trained model w/ weights and compiles it \n",
    "def load_model(model_path, weight_path):\n",
    "    # open and load model\n",
    "    with open(model_path) as json_mod:\n",
    "        model = model_from_json(json_mod.read())\n",
    "    # load weights\n",
    "    model.load_weights(weight_path)\n",
    "    plot_model(model, to_file='model_plot.png', show_shapes=True, show_layer_names=True)\n",
    "    \n",
    "    return model\n",
    "\n",
    "# This function uses our device's threshold parameters to predict whether or not\n",
    "# the image shows the presence of pneumonia using our trained model\n",
    "def predict_image(model, img, thresh): \n",
    "    \n",
    "    prediction = int(model.predict(img) > thresh)\n",
    "    \n",
    "    return prediction "
   ]
  },
  {
   "cell_type": "code",
   "execution_count": 3,
   "metadata": {},
   "outputs": [
    {
     "name": "stdout",
     "output_type": "stream",
     "text": [
      "Load file test1.dcm ...\n",
      "0 \n",
      "\n",
      "Load file test2.dcm ...\n",
      "1 \n",
      "\n",
      "Load file test3.dcm ...\n",
      "1 \n",
      "\n",
      "Load file test4.dcm ...\n",
      "Invalid file: modality is not 'DX', or body part is not 'CHEST', or position is not 'AP' or 'PA'.\n",
      "\n",
      "Load file test5.dcm ...\n",
      "Invalid file: modality is not 'DX', or body part is not 'CHEST', or position is not 'AP' or 'PA'.\n",
      "\n",
      "Load file test6.dcm ...\n",
      "Invalid file: modality is not 'DX', or body part is not 'CHEST', or position is not 'AP' or 'PA'.\n",
      "\n"
     ]
    }
   ],
   "source": [
    "test_dicoms = ['test1.dcm','test2.dcm','test3.dcm','test4.dcm','test5.dcm','test6.dcm']\n",
    "\n",
    "model_path = \"./model.json\" #path to saved model\n",
    "weight_path = \"./xray_class_my_model.best.hdf5\" #path to saved best weights\n",
    "\n",
    "IMG_SIZE=(1,224,224,3) # This might be different if you did not use vgg16\n",
    "img_mean = 0 # loads the mean image value they used during training preprocessing\n",
    "img_std = 1 # loads the std dev image value they used during training preprocessing\n",
    "\n",
    "my_model = load_model(model_path, weight_path) #loads model\n",
    "thresh = 0.34 #loads the threshold they chose for model classification \n",
    "\n",
    "# use the .dcm files to test your prediction\n",
    "for i in test_dicoms:\n",
    "    \n",
    "    img = np.array([])\n",
    "    img = check_dicom(i)\n",
    "    \n",
    "    if img is None:\n",
    "        continue\n",
    "        \n",
    "    img_proc = preprocess_image(img, img_mean, img_std, IMG_SIZE)\n",
    "    pred = predict_image(my_model, img_proc, thresh)\n",
    "    print(pred, \"\\n\")"
   ]
  }
 ],
 "metadata": {
  "kernelspec": {
   "display_name": "Python 3",
   "language": "python",
   "name": "python3"
  },
  "language_info": {
   "codemirror_mode": {
    "name": "ipython",
    "version": 3
   },
   "file_extension": ".py",
   "mimetype": "text/x-python",
   "name": "python",
   "nbconvert_exporter": "python",
   "pygments_lexer": "ipython3",
   "version": "3.7.7"
  }
 },
 "nbformat": 4,
 "nbformat_minor": 2
}
